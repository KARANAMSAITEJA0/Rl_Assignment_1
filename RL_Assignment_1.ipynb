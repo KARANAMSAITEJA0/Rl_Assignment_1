{
  "cells": [
    {
      "cell_type": "code",
      "execution_count": 23,
      "metadata": {
        "colab": {
          "base_uri": "https://localhost:8080/"
        },
        "id": "1De30ou6Lysx",
        "outputId": "371cb920-e1b3-45e6-b15f-4fd1f7de302b"
      },
      "outputs": [
        {
          "output_type": "stream",
          "name": "stdout",
          "text": [
            "Looking in indexes: https://pypi.org/simple, https://us-python.pkg.dev/colab-wheels/public/simple/\n",
            "Requirement already satisfied: gymnasium in /usr/local/lib/python3.8/dist-packages (0.27.1)\n",
            "Requirement already satisfied: matplotlib in /usr/local/lib/python3.8/dist-packages (3.5.3)\n",
            "Requirement already satisfied: numpy in /usr/local/lib/python3.8/dist-packages (1.22.4)\n",
            "Requirement already satisfied: typing-extensions>=4.3.0 in /usr/local/lib/python3.8/dist-packages (from gymnasium) (4.5.0)\n",
            "Requirement already satisfied: importlib-metadata>=4.8.0 in /usr/local/lib/python3.8/dist-packages (from gymnasium) (6.0.0)\n",
            "Requirement already satisfied: cloudpickle>=1.2.0 in /usr/local/lib/python3.8/dist-packages (from gymnasium) (2.2.1)\n",
            "Requirement already satisfied: jax-jumpy>=0.2.0 in /usr/local/lib/python3.8/dist-packages (from gymnasium) (0.2.0)\n",
            "Requirement already satisfied: gymnasium-notices>=0.0.1 in /usr/local/lib/python3.8/dist-packages (from gymnasium) (0.0.1)\n",
            "Requirement already satisfied: pillow>=6.2.0 in /usr/local/lib/python3.8/dist-packages (from matplotlib) (8.4.0)\n",
            "Requirement already satisfied: cycler>=0.10 in /usr/local/lib/python3.8/dist-packages (from matplotlib) (0.11.0)\n",
            "Requirement already satisfied: kiwisolver>=1.0.1 in /usr/local/lib/python3.8/dist-packages (from matplotlib) (1.4.4)\n",
            "Requirement already satisfied: fonttools>=4.22.0 in /usr/local/lib/python3.8/dist-packages (from matplotlib) (4.38.0)\n",
            "Requirement already satisfied: packaging>=20.0 in /usr/local/lib/python3.8/dist-packages (from matplotlib) (23.0)\n",
            "Requirement already satisfied: python-dateutil>=2.7 in /usr/local/lib/python3.8/dist-packages (from matplotlib) (2.8.2)\n",
            "Requirement already satisfied: pyparsing>=2.2.1 in /usr/local/lib/python3.8/dist-packages (from matplotlib) (3.0.9)\n",
            "Requirement already satisfied: zipp>=0.5 in /usr/local/lib/python3.8/dist-packages (from importlib-metadata>=4.8.0->gymnasium) (3.15.0)\n",
            "Requirement already satisfied: six>=1.5 in /usr/local/lib/python3.8/dist-packages (from python-dateutil>=2.7->matplotlib) (1.15.0)\n"
          ]
        }
      ],
      "source": [
        "!pip install gymnasium matplotlib numpy"
      ]
    },
    {
      "cell_type": "code",
      "execution_count": 24,
      "metadata": {
        "id": "vzLSDtlzL3mt"
      },
      "outputs": [],
      "source": [
        "from google.colab import widgets\n",
        "import gymnasium as gym\n",
        "from gymnasium import spaces\n",
        "import matplotlib.pyplot as plt\n",
        "import pandas as pd\n",
        "import numpy as np\n",
        "import time\n",
        "import pickle\n"
      ]
    },
    {
      "cell_type": "code",
      "execution_count": 25,
      "metadata": {
        "colab": {
          "base_uri": "https://localhost:8080/",
          "height": 273
        },
        "id": "PfOnKRT7L46q",
        "outputId": "7aa44bd9-8786-46c7-c73c-35b09aa0332a"
      },
      "outputs": [
        {
          "output_type": "display_data",
          "data": {
            "text/plain": [
              "<IPython.core.display.HTML object>"
            ],
            "text/html": [
              "<style>\n",
              "       table#id10, #id10 > tbody > tr > th, #id10 > tbody > tr > td {\n",
              "         border: 1px solid lightgray;\n",
              "         border-collapse:collapse;\n",
              "         \n",
              "        }</style>"
            ]
          },
          "metadata": {}
        },
        {
          "output_type": "display_data",
          "data": {
            "text/plain": [
              "<IPython.core.display.HTML object>"
            ],
            "text/html": [
              "<table id=id10><tr><td id=id10-0-0></td></tr></table>"
            ]
          },
          "metadata": {}
        },
        {
          "output_type": "display_data",
          "data": {
            "text/plain": [
              "<Figure size 432x288 with 1 Axes>"
            ],
            "image/png": "[encoded data removed]"
          },
          "metadata": {
            "needs_background": "light"
          }
        }
      ],
      "source": [
        "output_grid = widgets.Grid(1, 1)\n",
        "fig, ax = plt.subplots()\n",
        "for _ in range(5):\n",
        "    grid = np.zeros((4, 3))\n",
        "    grid[np.random.randint(3), np.random.randint(3)] = 1\n",
        "\n",
        "    ax.imshow(grid)\n",
        "    plt.pause(1)"
      ]
    },
    {
      "cell_type": "code",
      "execution_count": 26,
      "metadata": {
        "id": "vNy_7i2jL8VQ"
      },
      "outputs": [],
      "source": [
        "class GridEnvironment(gym.Env):\n",
        "    metadata = { 'render.modes': [] }\n",
        "    \n",
        "    def __init__(self):\n",
        "\n",
        "        self.observation_space = spaces.Discrete(9)\n",
        "        self.action_space = spaces.Discrete(4)\n",
        "        self.max_timesteps = 15\n",
        "\n",
        "        self.timestep = 0\n",
        "        self.agent_pos = [0, 0]\n",
        "        self.goal_pos = [2, 2]\n",
        "        self.state = np.zeros((3,3))\n",
        "        self.state[tuple(self.agent_pos)] = 1\n",
        "        self.state[tuple(self.goal_pos)] = 0.5\n",
        "\n",
        "        \n",
        "    def reset(self, **kwargs):\n",
        "\n",
        "        self.state = np.zeros((3,3))\n",
        "        self.state[tuple(self.agent_pos)] = 1\n",
        "        self.state[tuple(self.goal_pos)] = 0.5\n",
        "        observation = self.state.flatten()\n",
        "\n",
        "        info = {}\n",
        "\n",
        "        return observation, info\n",
        "    \n",
        "    def step(self, action):\n",
        "\n",
        "        if action == 0:\n",
        "          self.agent_pos[0] += 1\n",
        "        if action == 1:\n",
        "          self.agent_pos[0] -= 1\n",
        "        if action == 2:\n",
        "          self.agent_pos[1] += 1\n",
        "        if action == 3:\n",
        "          self.agent_pos[1] -= 1\n",
        "\n",
        "        # Comment this to demonstrate the truncation condition.\n",
        "        self.agent_pos = np.clip(self.agent_pos, 0, 2)\n",
        "\n",
        "        self.state = np.zeros((3,3))\n",
        "        self.state[tuple(self.agent_pos)] = 1\n",
        "        self.state[tuple(self.goal_pos)] = 0.5\n",
        "        observation = self.state.flatten()\n",
        "        \n",
        "        reward = 0\n",
        "        if np.array_equal(self.agent_pos, self.goal_pos):\n",
        "          reward = 1\n",
        "        if np.array_equal(self.agent_pos,(0,1) ):\n",
        "          reward = 1\n",
        "        if np.array_equal(self.agent_pos,(1,1)):\n",
        "          reward = 1\n",
        "        if np.array_equal(self.agent_pos,(1,2)):\n",
        "          reward = 1\n",
        "        if np.array_equal(self.agent_pos,(2,3)):\n",
        "          reward = 1\n",
        "        \n",
        "        self.timestep += 1\n",
        "\n",
        "        terminated = True if self.timestep >= self.max_timesteps else False\n",
        "        truncated = True if np.all((self.agent_pos >=0 ) & (self.agent_pos <= 2)) else False\n",
        "\n",
        "        info = {}\n",
        "        \n",
        "        return observation, reward, terminated, truncated, info\n",
        "        \n",
        "    def render(self):\n",
        "        plt.imshow(self.state)"
      ]
    },
    {
      "cell_type": "code",
      "execution_count": 27,
      "metadata": {
        "id": "Czjyx0D_L-it"
      },
      "outputs": [],
      "source": [
        "class RandomAgent:\n",
        "  def __init__(self, env):\n",
        "    self.env = env\n",
        "    self.observation_space = env.observation_space\n",
        "    self.action_space = env.action_space\n",
        "\n",
        "  def step(self, obs):\n",
        "    return np.random.choice(self.action_space.n)"
      ]
    },
    {
      "cell_type": "code",
      "execution_count": 28,
      "metadata": {
        "colab": {
          "base_uri": "https://localhost:8080/",
          "height": 273
        },
        "id": "o333bWhuNIH3",
        "outputId": "fb41a3d0-a48e-471f-fef1-be375bb75e10"
      },
      "outputs": [
        {
          "output_type": "display_data",
          "data": {
            "text/plain": [
              "<IPython.core.display.HTML object>"
            ],
            "text/html": [
              "<style>\n",
              "       table#id12, #id12 > tbody > tr > th, #id12 > tbody > tr > td {\n",
              "         border: 1px solid lightgray;\n",
              "         border-collapse:collapse;\n",
              "         \n",
              "        }</style>"
            ]
          },
          "metadata": {}
        },
        {
          "output_type": "display_data",
          "data": {
            "text/plain": [
              "<IPython.core.display.HTML object>"
            ],
            "text/html": [
              "<table id=id12><tr><td id=id12-0-0></td></tr></table>"
            ]
          },
          "metadata": {}
        },
        {
          "output_type": "display_data",
          "data": {
            "text/plain": [
              "<IPython.core.display.Javascript object>"
            ],
            "application/javascript": [
              "window[\"e4fa1556-b970-11ed-8f6a-0242ac1c000c\"] = google.colab.output.getActiveOutputArea();\n",
              "//# sourceURL=js_fb65c8608b"
            ]
          },
          "metadata": {}
        },
        {
          "output_type": "display_data",
          "data": {
            "text/plain": [
              "<IPython.core.display.Javascript object>"
            ],
            "application/javascript": [
              "window[\"e4faa688-b970-11ed-8f6a-0242ac1c000c\"] = document.querySelector(\"#id12-0-0\");\n",
              "//# sourceURL=js_90c47eba65"
            ]
          },
          "metadata": {}
        },
        {
          "output_type": "display_data",
          "data": {
            "text/plain": [
              "<IPython.core.display.Javascript object>"
            ],
            "application/javascript": [
              "window[\"e4fb00f6-b970-11ed-8f6a-0242ac1c000c\"] = google.colab.output.setActiveOutputArea(window[\"e4faa688-b970-11ed-8f6a-0242ac1c000c\"]);\n",
              "//# sourceURL=js_bfaa4cf447"
            ]
          },
          "metadata": {}
        },
        {
          "output_type": "display_data",
          "data": {
            "text/plain": [
              "<IPython.core.display.Javascript object>"
            ],
            "application/javascript": [
              "window[\"e53e02f2-b970-11ed-8f6a-0242ac1c000c\"] = google.colab.output.setActiveOutputArea(window[\"e4fa1556-b970-11ed-8f6a-0242ac1c000c\"]);\n",
              "//# sourceURL=js_7469f120bc"
            ]
          },
          "metadata": {}
        },
        {
          "output_type": "display_data",
          "data": {
            "text/plain": [
              "<IPython.core.display.Javascript object>"
            ],
            "application/javascript": [
              "window[\"e5430a86-b970-11ed-8f6a-0242ac1c000c\"] = google.colab.output.getActiveOutputArea();\n",
              "//# sourceURL=js_c829bd758a"
            ]
          },
          "metadata": {}
        },
        {
          "output_type": "display_data",
          "data": {
            "text/plain": [
              "<IPython.core.display.Javascript object>"
            ],
            "application/javascript": [
              "window[\"e543e24e-b970-11ed-8f6a-0242ac1c000c\"] = document.querySelector(\"#id12-0-0\");\n",
              "//# sourceURL=js_efcb1bc24e"
            ]
          },
          "metadata": {}
        },
        {
          "output_type": "display_data",
          "data": {
            "text/plain": [
              "<IPython.core.display.Javascript object>"
            ],
            "application/javascript": [
              "window[\"e5445e54-b970-11ed-8f6a-0242ac1c000c\"] = google.colab.output.setActiveOutputArea(window[\"e543e24e-b970-11ed-8f6a-0242ac1c000c\"]);\n",
              "//# sourceURL=js_fa32b9d055"
            ]
          },
          "metadata": {}
        },
        {
          "output_type": "display_data",
          "data": {
            "text/plain": [
              "<IPython.core.display.Javascript object>"
            ],
            "application/javascript": [
              "window[\"e58fcbfa-b970-11ed-8f6a-0242ac1c000c\"] = google.colab.output.setActiveOutputArea(window[\"e5430a86-b970-11ed-8f6a-0242ac1c000c\"]);\n",
              "//# sourceURL=js_1d0acb6507"
            ]
          },
          "metadata": {}
        },
        {
          "output_type": "display_data",
          "data": {
            "text/plain": [
              "<IPython.core.display.Javascript object>"
            ],
            "application/javascript": [
              "window[\"e62b2726-b970-11ed-8f6a-0242ac1c000c\"] = google.colab.output.getActiveOutputArea();\n",
              "//# sourceURL=js_e4fd2e3629"
            ]
          },
          "metadata": {}
        },
        {
          "output_type": "display_data",
          "data": {
            "text/plain": [
              "<IPython.core.display.Javascript object>"
            ],
            "application/javascript": [
              "window[\"e62bcf1e-b970-11ed-8f6a-0242ac1c000c\"] = document.querySelector(\"#id12-0-0\");\n",
              "//# sourceURL=js_9feeef4697"
            ]
          },
          "metadata": {}
        },
        {
          "output_type": "display_data",
          "data": {
            "text/plain": [
              "<IPython.core.display.Javascript object>"
            ],
            "application/javascript": [
              "window[\"e62c4322-b970-11ed-8f6a-0242ac1c000c\"] = google.colab.output.setActiveOutputArea(window[\"e62bcf1e-b970-11ed-8f6a-0242ac1c000c\"]);\n",
              "//# sourceURL=js_9e39c3b428"
            ]
          },
          "metadata": {}
        },
        {
          "output_type": "display_data",
          "data": {
            "text/plain": [
              "<IPython.core.display.Javascript object>"
            ],
            "application/javascript": [
              "window[\"e64a9fe8-b970-11ed-8f6a-0242ac1c000c\"] = google.colab.output.setActiveOutputArea(window[\"e62b2726-b970-11ed-8f6a-0242ac1c000c\"]);\n",
              "//# sourceURL=js_3949da3d3d"
            ]
          },
          "metadata": {}
        },
        {
          "output_type": "display_data",
          "data": {
            "text/plain": [
              "<IPython.core.display.Javascript object>"
            ],
            "application/javascript": [
              "window[\"e6e66482-b970-11ed-8f6a-0242ac1c000c\"] = google.colab.output.getActiveOutputArea();\n",
              "//# sourceURL=js_02040ce292"
            ]
          },
          "metadata": {}
        },
        {
          "output_type": "display_data",
          "data": {
            "text/plain": [
              "<IPython.core.display.Javascript object>"
            ],
            "application/javascript": [
              "window[\"e6e6c3a0-b970-11ed-8f6a-0242ac1c000c\"] = document.querySelector(\"#id12-0-0\");\n",
              "//# sourceURL=js_618a8a0031"
            ]
          },
          "metadata": {}
        },
        {
          "output_type": "display_data",
          "data": {
            "text/plain": [
              "<IPython.core.display.Javascript object>"
            ],
            "application/javascript": [
              "window[\"e6e73420-b970-11ed-8f6a-0242ac1c000c\"] = google.colab.output.setActiveOutputArea(window[\"e6e6c3a0-b970-11ed-8f6a-0242ac1c000c\"]);\n",
              "//# sourceURL=js_dc2ce32bc5"
            ]
          },
          "metadata": {}
        },
        {
          "output_type": "display_data",
          "data": {
            "text/plain": [
              "<IPython.core.display.Javascript object>"
            ],
            "application/javascript": [
              "window[\"e707d8ec-b970-11ed-8f6a-0242ac1c000c\"] = google.colab.output.setActiveOutputArea(window[\"e6e66482-b970-11ed-8f6a-0242ac1c000c\"]);\n",
              "//# sourceURL=js_d4f71692d1"
            ]
          },
          "metadata": {}
        },
        {
          "output_type": "display_data",
          "data": {
            "text/plain": [
              "<IPython.core.display.Javascript object>"
            ],
            "application/javascript": [
              "window[\"e7a579ee-b970-11ed-8f6a-0242ac1c000c\"] = google.colab.output.getActiveOutputArea();\n",
              "//# sourceURL=js_75cad0176f"
            ]
          },
          "metadata": {}
        },
        {
          "output_type": "display_data",
          "data": {
            "text/plain": [
              "<IPython.core.display.Javascript object>"
            ],
            "application/javascript": [
              "window[\"e7a691d0-b970-11ed-8f6a-0242ac1c000c\"] = document.querySelector(\"#id12-0-0\");\n",
              "//# sourceURL=js_4625ce3800"
            ]
          },
          "metadata": {}
        },
        {
          "output_type": "display_data",
          "data": {
            "text/plain": [
              "<IPython.core.display.Javascript object>"
            ],
            "application/javascript": [
              "window[\"e7a7a2b4-b970-11ed-8f6a-0242ac1c000c\"] = google.colab.output.setActiveOutputArea(window[\"e7a691d0-b970-11ed-8f6a-0242ac1c000c\"]);\n",
              "//# sourceURL=js_458b58221f"
            ]
          },
          "metadata": {}
        },
        {
          "output_type": "display_data",
          "data": {
            "text/plain": [
              "<IPython.core.display.Javascript object>"
            ],
            "application/javascript": [
              "window[\"e7d9cac8-b970-11ed-8f6a-0242ac1c000c\"] = google.colab.output.setActiveOutputArea(window[\"e7a579ee-b970-11ed-8f6a-0242ac1c000c\"]);\n",
              "//# sourceURL=js_5a9aabf0a8"
            ]
          },
          "metadata": {}
        },
        {
          "output_type": "display_data",
          "data": {
            "text/plain": [
              "<IPython.core.display.Javascript object>"
            ],
            "application/javascript": [
              "window[\"e878239e-b970-11ed-8f6a-0242ac1c000c\"] = google.colab.output.getActiveOutputArea();\n",
              "//# sourceURL=js_846bfa9777"
            ]
          },
          "metadata": {}
        },
        {
          "output_type": "display_data",
          "data": {
            "text/plain": [
              "<IPython.core.display.Javascript object>"
            ],
            "application/javascript": [
              "window[\"e878fd28-b970-11ed-8f6a-0242ac1c000c\"] = document.querySelector(\"#id12-0-0\");\n",
              "//# sourceURL=js_b228548016"
            ]
          },
          "metadata": {}
        },
        {
          "output_type": "display_data",
          "data": {
            "text/plain": [
              "<IPython.core.display.Javascript object>"
            ],
            "application/javascript": [
              "window[\"e87a397c-b970-11ed-8f6a-0242ac1c000c\"] = google.colab.output.setActiveOutputArea(window[\"e878fd28-b970-11ed-8f6a-0242ac1c000c\"]);\n",
              "//# sourceURL=js_85f3621de1"
            ]
          },
          "metadata": {}
        },
        {
          "output_type": "display_data",
          "data": {
            "text/plain": [
              "<IPython.core.display.Javascript object>"
            ],
            "application/javascript": [
              "window[\"e8b130ee-b970-11ed-8f6a-0242ac1c000c\"] = google.colab.output.setActiveOutputArea(window[\"e878239e-b970-11ed-8f6a-0242ac1c000c\"]);\n",
              "//# sourceURL=js_8a55a22c54"
            ]
          },
          "metadata": {}
        },
        {
          "output_type": "display_data",
          "data": {
            "text/plain": [
              "<IPython.core.display.Javascript object>"
            ],
            "application/javascript": [
              "window[\"e9510330-b970-11ed-8f6a-0242ac1c000c\"] = google.colab.output.getActiveOutputArea();\n",
              "//# sourceURL=js_dd4bb53a4b"
            ]
          },
          "metadata": {}
        },
        {
          "output_type": "display_data",
          "data": {
            "text/plain": [
              "<IPython.core.display.Javascript object>"
            ],
            "application/javascript": [
              "window[\"e95242cc-b970-11ed-8f6a-0242ac1c000c\"] = document.querySelector(\"#id12-0-0\");\n",
              "//# sourceURL=js_e3b615ef19"
            ]
          },
          "metadata": {}
        },
        {
          "output_type": "display_data",
          "data": {
            "text/plain": [
              "<IPython.core.display.Javascript object>"
            ],
            "application/javascript": [
              "window[\"e9537020-b970-11ed-8f6a-0242ac1c000c\"] = google.colab.output.setActiveOutputArea(window[\"e95242cc-b970-11ed-8f6a-0242ac1c000c\"]);\n",
              "//# sourceURL=js_4924fa45e8"
            ]
          },
          "metadata": {}
        },
        {
          "output_type": "display_data",
          "data": {
            "text/plain": [
              "<IPython.core.display.Javascript object>"
            ],
            "application/javascript": [
              "window[\"e991a34a-b970-11ed-8f6a-0242ac1c000c\"] = google.colab.output.setActiveOutputArea(window[\"e9510330-b970-11ed-8f6a-0242ac1c000c\"]);\n",
              "//# sourceURL=js_68170e2d32"
            ]
          },
          "metadata": {}
        },
        {
          "output_type": "display_data",
          "data": {
            "text/plain": [
              "<IPython.core.display.Javascript object>"
            ],
            "application/javascript": [
              "window[\"ea30cd44-b970-11ed-8f6a-0242ac1c000c\"] = google.colab.output.getActiveOutputArea();\n",
              "//# sourceURL=js_51ecce6db8"
            ]
          },
          "metadata": {}
        },
        {
          "output_type": "display_data",
          "data": {
            "text/plain": [
              "<IPython.core.display.Javascript object>"
            ],
            "application/javascript": [
              "window[\"ea31fdea-b970-11ed-8f6a-0242ac1c000c\"] = document.querySelector(\"#id12-0-0\");\n",
              "//# sourceURL=js_334b977bd3"
            ]
          },
          "metadata": {}
        },
        {
          "output_type": "display_data",
          "data": {
            "text/plain": [
              "<IPython.core.display.Javascript object>"
            ],
            "application/javascript": [
              "window[\"ea334290-b970-11ed-8f6a-0242ac1c000c\"] = google.colab.output.setActiveOutputArea(window[\"ea31fdea-b970-11ed-8f6a-0242ac1c000c\"]);\n",
              "//# sourceURL=js_6b21ba78f3"
            ]
          },
          "metadata": {}
        },
        {
          "output_type": "display_data",
          "data": {
            "text/plain": [
              "<IPython.core.display.Javascript object>"
            ],
            "application/javascript": [
              "window[\"ea628938-b970-11ed-8f6a-0242ac1c000c\"] = google.colab.output.setActiveOutputArea(window[\"ea30cd44-b970-11ed-8f6a-0242ac1c000c\"]);\n",
              "//# sourceURL=js_0293c2aeb3"
            ]
          },
          "metadata": {}
        },
        {
          "output_type": "display_data",
          "data": {
            "text/plain": [
              "<IPython.core.display.Javascript object>"
            ],
            "application/javascript": [
              "window[\"eb012156-b970-11ed-8f6a-0242ac1c000c\"] = google.colab.output.getActiveOutputArea();\n",
              "//# sourceURL=js_6db1645a3c"
            ]
          },
          "metadata": {}
        },
        {
          "output_type": "display_data",
          "data": {
            "text/plain": [
              "<IPython.core.display.Javascript object>"
            ],
            "application/javascript": [
              "window[\"eb03a4c6-b970-11ed-8f6a-0242ac1c000c\"] = document.querySelector(\"#id12-0-0\");\n",
              "//# sourceURL=js_af08da6488"
            ]
          },
          "metadata": {}
        },
        {
          "output_type": "display_data",
          "data": {
            "text/plain": [
              "<IPython.core.display.Javascript object>"
            ],
            "application/javascript": [
              "window[\"eb05a23a-b970-11ed-8f6a-0242ac1c000c\"] = google.colab.output.setActiveOutputArea(window[\"eb03a4c6-b970-11ed-8f6a-0242ac1c000c\"]);\n",
              "//# sourceURL=js_002de2e9c2"
            ]
          },
          "metadata": {}
        },
        {
          "output_type": "display_data",
          "data": {
            "text/plain": [
              "<IPython.core.display.Javascript object>"
            ],
            "application/javascript": [
              "window[\"eb58d356-b970-11ed-8f6a-0242ac1c000c\"] = google.colab.output.setActiveOutputArea(window[\"eb012156-b970-11ed-8f6a-0242ac1c000c\"]);\n",
              "//# sourceURL=js_74c8c1029a"
            ]
          },
          "metadata": {}
        },
        {
          "output_type": "display_data",
          "data": {
            "text/plain": [
              "<IPython.core.display.Javascript object>"
            ],
            "application/javascript": [
              "window[\"ebf97aa4-b970-11ed-8f6a-0242ac1c000c\"] = google.colab.output.getActiveOutputArea();\n",
              "//# sourceURL=js_5fd7a50382"
            ]
          },
          "metadata": {}
        },
        {
          "output_type": "display_data",
          "data": {
            "text/plain": [
              "<IPython.core.display.Javascript object>"
            ],
            "application/javascript": [
              "window[\"ebf9dbde-b970-11ed-8f6a-0242ac1c000c\"] = document.querySelector(\"#id12-0-0\");\n",
              "//# sourceURL=js_db7bfb2b2f"
            ]
          },
          "metadata": {}
        },
        {
          "output_type": "display_data",
          "data": {
            "text/plain": [
              "<IPython.core.display.Javascript object>"
            ],
            "application/javascript": [
              "window[\"ebfa3052-b970-11ed-8f6a-0242ac1c000c\"] = google.colab.output.setActiveOutputArea(window[\"ebf9dbde-b970-11ed-8f6a-0242ac1c000c\"]);\n",
              "//# sourceURL=js_87e083cc60"
            ]
          },
          "metadata": {}
        },
        {
          "output_type": "display_data",
          "data": {
            "text/plain": [
              "<IPython.core.display.Javascript object>"
            ],
            "application/javascript": [
              "window[\"ec73afea-b970-11ed-8f6a-0242ac1c000c\"] = google.colab.output.setActiveOutputArea(window[\"ebf97aa4-b970-11ed-8f6a-0242ac1c000c\"]);\n",
              "//# sourceURL=js_1f5525a504"
            ]
          },
          "metadata": {}
        },
        {
          "output_type": "display_data",
          "data": {
            "text/plain": [
              "<IPython.core.display.Javascript object>"
            ],
            "application/javascript": [
              "window[\"ed0f68fe-b970-11ed-8f6a-0242ac1c000c\"] = google.colab.output.getActiveOutputArea();\n",
              "//# sourceURL=js_212f4c2104"
            ]
          },
          "metadata": {}
        },
        {
          "output_type": "display_data",
          "data": {
            "text/plain": [
              "<IPython.core.display.Javascript object>"
            ],
            "application/javascript": [
              "window[\"ed107b86-b970-11ed-8f6a-0242ac1c000c\"] = document.querySelector(\"#id12-0-0\");\n",
              "//# sourceURL=js_395dd89f2b"
            ]
          },
          "metadata": {}
        },
        {
          "output_type": "display_data",
          "data": {
            "text/plain": [
              "<IPython.core.display.Javascript object>"
            ],
            "application/javascript": [
              "window[\"ed113b70-b970-11ed-8f6a-0242ac1c000c\"] = google.colab.output.setActiveOutputArea(window[\"ed107b86-b970-11ed-8f6a-0242ac1c000c\"]);\n",
              "//# sourceURL=js_390c5573c4"
            ]
          },
          "metadata": {}
        },
        {
          "output_type": "display_data",
          "data": {
            "text/plain": [
              "<IPython.core.display.Javascript object>"
            ],
            "application/javascript": [
              "window[\"ed4e10ea-b970-11ed-8f6a-0242ac1c000c\"] = google.colab.output.setActiveOutputArea(window[\"ed0f68fe-b970-11ed-8f6a-0242ac1c000c\"]);\n",
              "//# sourceURL=js_e1f182a54c"
            ]
          },
          "metadata": {}
        },
        {
          "output_type": "display_data",
          "data": {
            "text/plain": [
              "<IPython.core.display.Javascript object>"
            ],
            "application/javascript": [
              "window[\"edeb6746-b970-11ed-8f6a-0242ac1c000c\"] = google.colab.output.getActiveOutputArea();\n",
              "//# sourceURL=js_8fcd0aeadd"
            ]
          },
          "metadata": {}
        },
        {
          "output_type": "display_data",
          "data": {
            "text/plain": [
              "<IPython.core.display.Javascript object>"
            ],
            "application/javascript": [
              "window[\"edebfff8-b970-11ed-8f6a-0242ac1c000c\"] = document.querySelector(\"#id12-0-0\");\n",
              "//# sourceURL=js_47c7b99bb5"
            ]
          },
          "metadata": {}
        },
        {
          "output_type": "display_data",
          "data": {
            "text/plain": [
              "<IPython.core.display.Javascript object>"
            ],
            "application/javascript": [
              "window[\"edec6b96-b970-11ed-8f6a-0242ac1c000c\"] = google.colab.output.setActiveOutputArea(window[\"edebfff8-b970-11ed-8f6a-0242ac1c000c\"]);\n",
              "//# sourceURL=js_e4e8618b34"
            ]
          },
          "metadata": {}
        },
        {
          "output_type": "display_data",
          "data": {
            "text/plain": [
              "<IPython.core.display.Javascript object>"
            ],
            "application/javascript": [
              "window[\"ee7e128a-b970-11ed-8f6a-0242ac1c000c\"] = google.colab.output.setActiveOutputArea(window[\"edeb6746-b970-11ed-8f6a-0242ac1c000c\"]);\n",
              "//# sourceURL=js_72b78350e1"
            ]
          },
          "metadata": {}
        },
        {
          "output_type": "display_data",
          "data": {
            "text/plain": [
              "<IPython.core.display.Javascript object>"
            ],
            "application/javascript": [
              "window[\"ef1b49b0-b970-11ed-8f6a-0242ac1c000c\"] = google.colab.output.getActiveOutputArea();\n",
              "//# sourceURL=js_bd3a33f99c"
            ]
          },
          "metadata": {}
        },
        {
          "output_type": "display_data",
          "data": {
            "text/plain": [
              "<IPython.core.display.Javascript object>"
            ],
            "application/javascript": [
              "window[\"ef1c5364-b970-11ed-8f6a-0242ac1c000c\"] = document.querySelector(\"#id12-0-0\");\n",
              "//# sourceURL=js_93135eda50"
            ]
          },
          "metadata": {}
        },
        {
          "output_type": "display_data",
          "data": {
            "text/plain": [
              "<IPython.core.display.Javascript object>"
            ],
            "application/javascript": [
              "window[\"ef1cff76-b970-11ed-8f6a-0242ac1c000c\"] = google.colab.output.setActiveOutputArea(window[\"ef1c5364-b970-11ed-8f6a-0242ac1c000c\"]);\n",
              "//# sourceURL=js_1487d770da"
            ]
          },
          "metadata": {}
        },
        {
          "output_type": "display_data",
          "data": {
            "text/plain": [
              "<IPython.core.display.Javascript object>"
            ],
            "application/javascript": [
              "window[\"ef468eae-b970-11ed-8f6a-0242ac1c000c\"] = google.colab.output.setActiveOutputArea(window[\"ef1b49b0-b970-11ed-8f6a-0242ac1c000c\"]);\n",
              "//# sourceURL=js_2c6859f808"
            ]
          },
          "metadata": {}
        },
        {
          "output_type": "display_data",
          "data": {
            "text/plain": [
              "<IPython.core.display.Javascript object>"
            ],
            "application/javascript": [
              "window[\"efe22f3a-b970-11ed-8f6a-0242ac1c000c\"] = google.colab.output.getActiveOutputArea();\n",
              "//# sourceURL=js_a57c428346"
            ]
          },
          "metadata": {}
        },
        {
          "output_type": "display_data",
          "data": {
            "text/plain": [
              "<IPython.core.display.Javascript object>"
            ],
            "application/javascript": [
              "window[\"efe30982-b970-11ed-8f6a-0242ac1c000c\"] = document.querySelector(\"#id12-0-0\");\n",
              "//# sourceURL=js_784ad6b54a"
            ]
          },
          "metadata": {}
        },
        {
          "output_type": "display_data",
          "data": {
            "text/plain": [
              "<IPython.core.display.Javascript object>"
            ],
            "application/javascript": [
              "window[\"efe37e30-b970-11ed-8f6a-0242ac1c000c\"] = google.colab.output.setActiveOutputArea(window[\"efe30982-b970-11ed-8f6a-0242ac1c000c\"]);\n",
              "//# sourceURL=js_502c7af30b"
            ]
          },
          "metadata": {}
        },
        {
          "output_type": "display_data",
          "data": {
            "text/plain": [
              "<IPython.core.display.Javascript object>"
            ],
            "application/javascript": [
              "window[\"f00c56e8-b970-11ed-8f6a-0242ac1c000c\"] = google.colab.output.setActiveOutputArea(window[\"efe22f3a-b970-11ed-8f6a-0242ac1c000c\"]);\n",
              "//# sourceURL=js_b044de65c5"
            ]
          },
          "metadata": {}
        },
        {
          "output_type": "display_data",
          "data": {
            "text/plain": [
              "<IPython.core.display.Javascript object>"
            ],
            "application/javascript": [
              "window[\"f0a83ea0-b970-11ed-8f6a-0242ac1c000c\"] = google.colab.output.getActiveOutputArea();\n",
              "//# sourceURL=js_b4e6753e44"
            ]
          },
          "metadata": {}
        },
        {
          "output_type": "display_data",
          "data": {
            "text/plain": [
              "<IPython.core.display.Javascript object>"
            ],
            "application/javascript": [
              "window[\"f0a93094-b970-11ed-8f6a-0242ac1c000c\"] = document.querySelector(\"#id12-0-0\");\n",
              "//# sourceURL=js_ba4ba8ff2a"
            ]
          },
          "metadata": {}
        },
        {
          "output_type": "display_data",
          "data": {
            "text/plain": [
              "<IPython.core.display.Javascript object>"
            ],
            "application/javascript": [
              "window[\"f0a997be-b970-11ed-8f6a-0242ac1c000c\"] = google.colab.output.setActiveOutputArea(window[\"f0a93094-b970-11ed-8f6a-0242ac1c000c\"]);\n",
              "//# sourceURL=js_c4f72cc5f0"
            ]
          },
          "metadata": {}
        },
        {
          "output_type": "display_data",
          "data": {
            "text/plain": [
              "<IPython.core.display.Javascript object>"
            ],
            "application/javascript": [
              "window[\"f0c60bce-b970-11ed-8f6a-0242ac1c000c\"] = google.colab.output.setActiveOutputArea(window[\"f0a83ea0-b970-11ed-8f6a-0242ac1c000c\"]);\n",
              "//# sourceURL=js_91c3fd2821"
            ]
          },
          "metadata": {}
        },
        {
          "output_type": "display_data",
          "data": {
            "text/plain": [
              "<IPython.core.display.Javascript object>"
            ],
            "application/javascript": [
              "window[\"f16225b8-b970-11ed-8f6a-0242ac1c000c\"] = google.colab.output.getActiveOutputArea();\n",
              "//# sourceURL=js_8f494ed736"
            ]
          },
          "metadata": {}
        },
        {
          "output_type": "display_data",
          "data": {
            "text/plain": [
              "<IPython.core.display.Javascript object>"
            ],
            "application/javascript": [
              "window[\"f162a70e-b970-11ed-8f6a-0242ac1c000c\"] = document.querySelector(\"#id12-0-0\");\n",
              "//# sourceURL=js_03939bf68c"
            ]
          },
          "metadata": {}
        },
        {
          "output_type": "display_data",
          "data": {
            "text/plain": [
              "<IPython.core.display.Javascript object>"
            ],
            "application/javascript": [
              "window[\"f1633d72-b970-11ed-8f6a-0242ac1c000c\"] = google.colab.output.setActiveOutputArea(window[\"f162a70e-b970-11ed-8f6a-0242ac1c000c\"]);\n",
              "//# sourceURL=js_54f0728436"
            ]
          },
          "metadata": {}
        },
        {
          "output_type": "display_data",
          "data": {
            "text/plain": [
              "<Figure size 432x288 with 1 Axes>"
            ],
            "image/png": "[encoded data removed]"
          },
          "metadata": {
            "needs_background": "light"
          }
        },
        {
          "output_type": "display_data",
          "data": {
            "text/plain": [
              "<IPython.core.display.Javascript object>"
            ],
            "application/javascript": [
              "window[\"f1831a98-b970-11ed-8f6a-0242ac1c000c\"] = google.colab.output.setActiveOutputArea(window[\"f16225b8-b970-11ed-8f6a-0242ac1c000c\"]);\n",
              "//# sourceURL=js_c08e66dfa8"
            ]
          },
          "metadata": {}
        }
      ],
      "source": [
        "env = GridEnvironment()\n",
        "agent = RandomAgent(env)\n",
        "\n",
        "obs, info = env.reset()\n",
        "terminated, truncated = False, False\n",
        "\n",
        "output_grid = widgets.Grid(1, 1)\n",
        "with output_grid.output_to(0, 0):\n",
        "  env.render()\n",
        "\n",
        "while not terminated:\n",
        "  if np.random.random()<0.9:\n",
        "     action = agent.step(obs)\n",
        "  else:\n",
        "    action=np.random.randint(0,4)\n",
        "  obs, reward, terminated, truncated, info = env.step(action)\n",
        "  with output_grid.output_to(0, 0):\n",
        "    output_grid.clear_cell()\n",
        "    env.render()\n",
        "  time.sleep(1)"
      ]
    },
    {
      "cell_type": "code",
      "execution_count": 29,
      "metadata": {
        "id": "o1q2KJeZOK4c",
        "colab": {
          "base_uri": "https://localhost:8080/",
          "height": 672
        },
        "outputId": "3745ec24-00a1-4868-ab67-3a8f0cb990e7"
      },
      "outputs": [
        {
          "output_type": "display_data",
          "data": {
            "text/plain": [
              "<Figure size 1080x720 with 1 Axes>"
            ],
            "image/png": "[encoded data removed]"
          },
          "metadata": {
            "needs_background": "light"
          }
        }
      ],
      "source": [
        "# Generating reward values.\n",
        "initial_rewards = np.random.choice([-50, -100, 100], 100, p=[0.7, 0.29, 0.01])\n",
        "intermediate_rewards = np.random.choice([-50, -100, 100], 100, p=[0.6, 0.25, 0.15])\n",
        "final_rewards_1 = np.random.choice([-50, -100, 100], 100, p=[0.3, 0.1, 0.6])\n",
        "final_rewards_2 = np.random.choice([-50, -100, 100], 100, p=[0.05, 0.05, 0.9])\n",
        "final_rewards_3 = np.random.choice([-50, -100, 100], 100, p=[0.00, 0.00, 1])\n",
        "\n",
        "reward_per_episode = np.concatenate((initial_rewards, intermediate_rewards,\n",
        "                                    final_rewards_1, final_rewards_2, final_rewards_3))\n",
        "\n",
        "# Reward Dynamics\n",
        "plt.figure(figsize=(15, 10))\n",
        "plt.plot(reward_per_episode, 'ro')\n",
        "plt.xlabel('Episode', fontsize=28)\n",
        "plt.ylabel('Reward Value', fontsize=28)\n",
        "plt.title('Rewards Per Episode (Training)', fontsize=36)\n",
        "plt.xticks(fontsize=24)\n",
        "plt.yticks([-100, -50, 0, 50, 100], fontsize=24)\n",
        "plt.ylim(ymin=-102, ymax=102)\n",
        "plt.xlim(xmin=0, xmax=500)\n",
        "plt.grid()\n",
        "plt.show()"
      ]
    },
    {
      "cell_type": "code",
      "execution_count": 30,
      "outputs": [
        {
          "output_type": "display_data",
          "data": {
            "text/plain": [
              "<Figure size 1080x720 with 1 Axes>"
            ],
            "image/png": "[encoded data removed]"
          },
          "metadata": {
            "needs_background": "light"
          }
        }
      ],
      "source": [
        "# Epsilon-decay\n",
        "epsilon_values = [(0.99 ** i) * 1 for i in range(500)]\n",
        "plt.figure(figsize=(15, 10))\n",
        "plt.plot(epsilon_values, linewidth=4)\n",
        "plt.xlabel('Episode', fontsize=28)\n",
        "plt.ylabel('Epsilon Values', fontsize=28)\n",
        "plt.title('Epsilon Decay', fontsize=36)\n",
        "plt.xticks(fontsize=24)\n",
        "plt.yticks(fontsize=24)\n",
        "plt.ylim(ymin=0, ymax=1)\n",
        "plt.xlim(xmin=0, xmax=500)\n",
        "plt.grid()\n",
        "plt.show()"
      ],
      "metadata": {
        "colab": {
          "base_uri": "https://localhost:8080/",
          "height": 672
        },
        "id": "EiYVVnKXpmV0",
        "outputId": "521a59b2-45de-4ece-92d8-2fd41f217845"
      }
    },
    {
      "cell_type": "code",
      "source": [
        "#part_2\n",
        "\n",
        "# Define the environment\n",
        "size = 4\n",
        "start_state = (0, 0)\n",
        "goal_state = (3, 3)\n",
        "actions = [\"up\", \"down\", \"left\", \"right\"]\n",
        "\n",
        "# Define the hyperparameters\n",
        "lr = 0.8\n",
        "gamma = 0.95\n",
        "epsilon = 1.0\n",
        "epsilon_decay = 0.99\n",
        "min_epsilon = 0.01\n",
        "num_episodes = 100\n",
        "\n",
        "# Initialize the Q-table\n",
        "Q = np.zeros((size, size, len(actions)))\n",
        "\n",
        "# Define the epsilon-greedy policy\n",
        "def epsilon_greedy_policy(state):\n",
        "    if np.random.uniform() < epsilon:\n",
        "        action = np.random.choice(actions)\n",
        "    else:\n",
        "        action = actions[np.argmax(Q[state])]\n",
        "    return action\n",
        "\n",
        "# Define the decay function for epsilon\n",
        "def decay_epsilon(epsilon):\n",
        "    if epsilon > min_epsilon:\n",
        "        epsilon *= epsilon_decay\n",
        "    return epsilon\n",
        "\n",
        "# Define the function to simulate one episode\n",
        "def simulate_episode():\n",
        "    state = start_state\n",
        "    total_reward = 0\n",
        "    while state != goal_state:\n",
        "        action = epsilon_greedy_policy(state)\n",
        "        next_state, reward = take_action(state, action)\n",
        "        Q[state][actions.index(action)] += lr * (reward + gamma * np.max(Q[next_state]) - Q[state][actions.index(action)])\n",
        "        state = next_state\n",
        "        total_reward += reward\n",
        "    return total_reward\n",
        "\n",
        "# Define the function to take an action in the environment\n",
        "def take_action(state, action):\n",
        "    if action == \"up\":\n",
        "        next_state = (max(state[0] - 1, 0), state[1])\n",
        "    elif action == \"down\":\n",
        "        next_state = (min(state[0] + 1, size - 1), state[1])\n",
        "    elif action == \"left\":\n",
        "        next_state = (state[0], max(state[1] - 1, 0))\n",
        "    elif action == \"right\":\n",
        "        next_state = (state[0], min(state[1] + 1, size - 1))\n",
        "    if next_state == goal_state:\n",
        "        reward = 10\n",
        "    else:\n",
        "        reward = -1\n",
        "    return next_state, reward\n",
        "\n",
        "# Simulate the episodes and update Q-values\n",
        "rewards_per_episode = []\n",
        "for i in range(num_episodes):\n",
        "    total_reward = simulate_episode()\n",
        "    rewards_per_episode.append(total_reward)\n",
        "    epsilon = decay_epsilon(epsilon)\n",
        "\n",
        "\n",
        "# Save the Q table as a pickle file\n",
        "with open('q_table.pickle', 'wb') as f:\n",
        "    pickle.dump(Q, f)\n",
        "\n",
        "# Load the Q table from the pickle file\n",
        "with open('q_table.pickle', 'rb') as f:\n",
        "    Q = pickle.load(f)\n",
        "\n",
        "\n",
        "# Plot the epsilon decay and total reward per episode\n",
        "plt.plot(range(num_episodes), rewards_per_episode)\n",
        "plt.xlabel(\"Episode\")\n",
        "plt.ylabel(\"Total Reward\")\n",
        "plt.show()\n",
        "\n",
        "plt.plot(range(num_episodes), [epsilon_greedy_policy((0,0)) for i in range(num_episodes)])\n",
        "plt.xlabel(\"Episode\")\n",
        "plt.ylabel(\"Epsilon\")\n",
        "plt.show()\n"
      ],
      "metadata": {
        "colab": {
          "base_uri": "https://localhost:8080/",
          "height": 541
        },
        "id": "SfPDx2FBcT2O",
        "outputId": "8a4caf9d-04e2-4327-ee18-642743d3e124"
      },
      "execution_count": 33,
      "outputs": [
        {
          "output_type": "display_data",
          "data": {
            "text/plain": [
              "<Figure size 432x288 with 1 Axes>"
            ],
            "image/png": "[encoded data removed]"
          },
          "metadata": {
            "needs_background": "light"
          }
        },
        {
          "output_type": "display_data",
          "data": {
            "text/plain": [
              "<Figure size 432x288 with 1 Axes>"
            ],
            "image/png": "[encoded data removed]"
          },
          "metadata": {
            "needs_background": "light"
          }
        }
      ]
    },
    {
      "cell_type": "code",
      "source": [
        "# Define the epsilon-greedy policy\n",
        "def epsilon_greedy_policy(state):\n",
        "    if np.random.uniform() < epsilon:\n",
        "        action = np.random.choice(actions)\n",
        "    else:\n",
        "        action = actions[np.argmax(Q[state])]\n",
        "    return action\n",
        "\n",
        "# Define the decay function for epsilon\n",
        "def decay_epsilon(epsilon):\n",
        "    if epsilon > min_epsilon:\n",
        "        epsilon *= epsilon_decay\n",
        "    return epsilon\n",
        "\n",
        "# Define the function to simulate one episode\n",
        "def simulate_episode():\n",
        "    state = start_state\n",
        "    total_reward = 0\n",
        "    while state != goal_state:\n",
        "        action = epsilon_greedy_policy(state)\n",
        "        if np.random.uniform() < 0.2:\n",
        "            action = np.random.choice(actions)\n",
        "        next_state, reward = take_action(state, action)\n",
        "        total_reward += reward\n",
        "        Q[state][actions.index(action)] += lr * (reward + gamma * np.max(Q[next_state]) - Q[state][actions.index(action)])\n",
        "        state = next_state\n",
        "    return total_reward\n",
        "\n",
        "# Define the function to take an action in the environment\n",
        "def take_action(state, action):\n",
        "    if action == \"up\":\n",
        "        next_state = (max(state[0] - 1, 0), state[1])\n",
        "    elif action == \"down\":\n",
        "        next_state = (min(state[0] + 1, size - 1), state[1])\n",
        "    elif action == \"left\":\n",
        "        next_state = (state[0], max(state[1] - 1, 0))\n",
        "    elif action == \"right\":\n",
        "        next_state = (state[0], min(state[1] + 1, size - 1))\n",
        "    if next_state == goal_state:\n",
        "        reward = 10\n",
        "    else:\n",
        "        reward = -1\n",
        "    return next_state, reward\n",
        "\n",
        "# Save the Q table as a pickle file\n",
        "with open('q_table.pickle', 'wb') as f:\n",
        "    pickle.dump(Q, f)\n",
        "\n",
        "# Load the Q table from the pickle file\n",
        "with open('q_table.pickle', 'rb') as f:\n",
        "    Q = pickle.load(f)\n",
        "\n",
        "\n",
        "# Simulate the episodes and update Q-values\n",
        "rewards_per_episode = []\n",
        "for i in range(num_episodes):\n",
        "    total_reward = simulate_episode()\n",
        "    rewards_per_episode.append(total_reward)\n",
        "    epsilon = decay_epsilon(epsilon)\n",
        "\n",
        "# Plot the epsilon decay and total reward per episode\n",
        "plt.plot(range(num_episodes), rewards_per_episode)\n",
        "plt.xlabel(\"Episode\")\n",
        "plt.ylabel(\"Total Reward\")\n",
        "plt.show()\n",
        "\n",
        "plt.plot(range(num_episodes), [epsilon_greedy_policy((0,0)) for i in range(num_episodes)])\n",
        "plt.xlabel(\"Episode\")\n",
        "plt.ylabel(\"Epsilon\")\n",
        "plt.show()\n"
      ],
      "metadata": {
        "colab": {
          "base_uri": "https://localhost:8080/",
          "height": 541
        },
        "id": "0j4bZKKhcX27",
        "outputId": "1a481eaa-d15e-4daa-df7b-7113250f2c35"
      },
      "execution_count": 32,
      "outputs": [
        {
          "output_type": "display_data",
          "data": {
            "text/plain": [
              "<Figure size 432x288 with 1 Axes>"
            ],
            "image/png": "[encoded data removed]"
          },
          "metadata": {
            "needs_background": "light"
          }
        },
        {
          "output_type": "display_data",
          "data": {
            "text/plain": [
              "<Figure size 432x288 with 1 Axes>"
            ],
            "image/png": "[encoded data removed]"
          },
          "metadata": {
            "needs_background": "light"
          }
        }
      ]
    },
    {
      "cell_type": "code",
      "source": [
        "# Imports\n",
        "import gymnasium\n",
        "from gymnasium import spaces\n",
        "import math\n",
        "import matplotlib.pyplot as plt\n",
        "import numpy as np\n",
        "import pandas as pd"
      ],
      "metadata": {
        "id": "J7jFlewReGMH"
      },
      "execution_count": 38,
      "outputs": []
    },
    {
      "cell_type": "code",
      "source": [
        "#Part_3\n",
        "\n",
        "from google.colab import files\n",
        "uploaded = files.upload()\n",
        "\n",
        "# Defining the Stock Trading Environment.\n",
        "\"\"\"DON'T MAKE ANY CHANGES TO THE ENVIRONMENT.\"\"\"\n",
        "\n",
        "\n",
        "class StockTradingEnvironment(gymnasium.Env):\n",
        "    \"\"\"This class implements the Stock Trading environment.\"\"\"\n",
        "\n",
        "    def __init__(self, file_path, train=True, number_of_days_to_consider=10):\n",
        "        \"\"\"This method initializes the environment.\n",
        "\n",
        "        :param file_path: - Path of the CSV file containing the historical stock data.\n",
        "        :param train: - Boolean indicating whether the goal is to train or test the performance of the agent.\n",
        "        :param number_of_days_to_consider = Integer representing the number of days the for which the agent\n",
        "                considers the trend in stock price to make a decision.\"\"\"\n",
        "\n",
        "        self.file_path = file_path\n",
        "        self.stock_data = pd.read_csv(self.file_path)\n",
        "        self.train = train\n",
        "\n",
        "        # Splitting the data into train and test datasets.\n",
        "        self.training_stock_data = self.stock_data.iloc[:int(0.8 * len(self.stock_data))]\n",
        "        self.testing_stock_data = self.stock_data.iloc[int(0.8 * len(self.stock_data)):].reset_index()\n",
        "\n",
        "        self.observation_space = spaces.Discrete(9)\n",
        "        self.action_space = spaces.Discrete(8)\n",
        "\n",
        "        self.investment_capital = 100000  # This defines the investment capital that the agent starts with.\n",
        "        self.number_of_shares = 0  # This defines number of shares currently held by the agent.\n",
        "        self.stock_value = 0  # This defines the value of the stock currently held by the agent.\n",
        "        self.book_value = 0  # This defines the total value for which the agent bought the shares.\n",
        "        # This defines the agent's total account value.\n",
        "        self.total_account_value = self.investment_capital + self.stock_value\n",
        "        # List to store the total account value over training or evaluation.\n",
        "        self.total_account_value_list = []\n",
        "        # This defines the number of days for which the agent considers the data before taking an action.\n",
        "        self.number_of_days_to_consider = number_of_days_to_consider\n",
        "        # The maximum timesteps the agent will take before the episode ends.\n",
        "        if self.train:\n",
        "            self.max_timesteps = len(self.training_stock_data) - self.number_of_days_to_consider\n",
        "        else:\n",
        "            self.max_timesteps = len(self.testing_stock_data) - self.number_of_days_to_consider\n",
        "        # Initializing the number of steps taken to 0.\n",
        "        self.timestep = 0\n",
        "        self.reset()\n",
        "        \n",
        "\n",
        "    def reset(self):\n",
        "        \"\"\"This method resets the environment and returns the observation.\n",
        "\n",
        "        :returns observation: - Integer in the range of 0 to 3 representing the four possible observations that the\n",
        "                                agent can receive. The observation depends upon whether the price increased on average\n",
        "                                in the number of days the agent considers, and whether the agent already has the stock\n",
        "                                or not.\n",
        "\n",
        "                 info: - info: - A dictionary that can be used to provide additional implementation information.\"\"\"\n",
        "\n",
        "        self.investment_capital = 100000  # This defines the investment capital that the agent starts with.\n",
        "        self.number_of_shares = 0  # This defines number of shares currently held by the agent.\n",
        "        self.stock_value = 0  # This defines the value of the stock currently held by the agent.\n",
        "        self.book_value = 0  # This defines the total value for which the agent bought the shares.\n",
        "        # This defines the agent's total account value.\n",
        "        self.total_account_value = self.investment_capital + self.stock_value\n",
        "        # List to store the total account value over training or evaluation.\n",
        "        self.total_account_value_list = []\n",
        "        # Initializing the number of steps taken to 0.\n",
        "        self.timestep = 0\n",
        "\n",
        "        # Getting the observation vector.\n",
        "        if self.train:\n",
        "            # If the task is to train the agent the maximum timesteps will be equal to the number of days considered\n",
        "            # subtracted from the  length of the training stock data.\n",
        "            self.max_timesteps = len(self.training_stock_data) - self.number_of_days_to_consider\n",
        "\n",
        "            # Calculating whether the price increased or decreased/remained the same on the majority of days the agent\n",
        "            # considers.\n",
        "            price_increase_list = []\n",
        "            for i in range(self.number_of_days_to_consider):\n",
        "                if self.training_stock_data['Close'][self.timestep + 1 + i] \\\n",
        "                        - self.training_stock_data['Close'][self.timestep + i] > 0:\n",
        "                    price_increase_list.append(1)\n",
        "                else:\n",
        "                    price_increase_list.append(0)\n",
        "\n",
        "            if (np.sum(price_increase_list) / self.number_of_days_to_consider) >= 0.5:\n",
        "                price_increase = True\n",
        "            else:\n",
        "                price_increase = False\n",
        "\n",
        "            stock_held = False\n",
        "\n",
        "            # Observation vector that will be passed to the agent.\n",
        "            observation = [price_increase, stock_held]\n",
        "\n",
        "        else:\n",
        "            # If the task is to evaluate the trained agent's performance the maximum timesteps will be equal to the\n",
        "            # number of days considered subtracted from the  length of the testing stock data.\n",
        "            self.max_timesteps = len(self.testing_stock_data) - self.number_of_days_to_consider\n",
        "\n",
        "            # Calculating whether the price increased or decreased/remained the same on the majority of days the agent\n",
        "            # considers.\n",
        "            price_increase_list = []\n",
        "            for i in range(self.number_of_days_to_consider):\n",
        "                if self.testing_stock_data['Close'][self.timestep + 1 + i] \\\n",
        "                        - self.testing_stock_data['Close'][self.timestep + i] > 0:\n",
        "                    price_increase_list.append(1)\n",
        "                else:\n",
        "                    price_increase_list.append(0)\n",
        "\n",
        "            if (np.sum(price_increase_list) / self.number_of_days_to_consider) >= 0.5:\n",
        "                price_increase = True\n",
        "            else:\n",
        "                price_increase = False\n",
        "\n",
        "            stock_held = False\n",
        "\n",
        "            # Observation vector.\n",
        "            observation = [price_increase, stock_held]\n",
        "\n",
        "        if np.array_equal(observation, [True, False]):\n",
        "            observation = 0\n",
        "        if np.array_equal(observation, [True, True]):\n",
        "            observation = 1\n",
        "        if np.array_equal(observation, [False, False]):\n",
        "            observation = 2\n",
        "        if np.array_equal(observation, [False, True]):\n",
        "            observation = 3\n",
        "\n",
        "        info = None\n",
        "\n",
        "        return observation, info\n",
        "\n",
        "    def step(self, action):\n",
        "        \n",
        "\n",
        "        # We give the agent a penalty for taking actions such as buying a stock when the agent doesn't have the\n",
        "        # investment capital and selling a stock when the agent doesn't have any shares.\n",
        "        penalty = 0\n",
        "\n",
        "        if self.train:\n",
        "            if action == 0:  # Buy\n",
        "                if self.number_of_shares > 0:\n",
        "                    penalty = -10\n",
        "                # Determining the number of shares the agent can buy.\n",
        "                number_of_shares_to_buy = math.floor(self.investment_capital / self.training_stock_data[\n",
        "                    'Open'][self.timestep + self.number_of_days_to_consider])\n",
        "                # Adding to the number of shares the agent has.\n",
        "                self.number_of_shares += number_of_shares_to_buy\n",
        "\n",
        "                # Computing the stock value, book value, investment capital and reward.\n",
        "                if number_of_shares_to_buy > 0:\n",
        "                    self.stock_value +=\\\n",
        "                        self.training_stock_data['Open'][self.timestep + self.number_of_days_to_consider] \\\n",
        "                        * number_of_shares_to_buy\n",
        "                    self.book_value += \\\n",
        "                        self.training_stock_data['Open'][self.timestep + self.number_of_days_to_consider]\\\n",
        "                        * number_of_shares_to_buy\n",
        "                    self.investment_capital -= \\\n",
        "                        self.training_stock_data['Open'][self.timestep + self.number_of_days_to_consider] \\\n",
        "                        * number_of_shares_to_buy\n",
        "\n",
        "                    reward = 1 + penalty\n",
        "\n",
        "                else:\n",
        "                    # Computing the stock value and reward.\n",
        "                    self.stock_value = \\\n",
        "                        self.training_stock_data['Open'][self.timestep + self.number_of_days_to_consider] \\\n",
        "                        * self.number_of_shares\n",
        "                    reward = -10\n",
        "\n",
        "            if action == 1:  # Sell\n",
        "                # Computing the investment capital, sell value and reward.\n",
        "                self.investment_capital += \\\n",
        "                    self.training_stock_data['Open'][self.timestep + self.number_of_days_to_consider] \\\n",
        "                    * self.number_of_shares\n",
        "                sell_value = self.training_stock_data['Open'][self.timestep + self.number_of_days_to_consider] \\\n",
        "                             * self.number_of_shares\n",
        "\n",
        "                if self.book_value > 0:\n",
        "                    reward = (sell_value - self.book_value) / self.book_value * 100\n",
        "                else:\n",
        "                    reward = -10\n",
        "\n",
        "                self.number_of_shares = 0\n",
        "                self.stock_value = 0\n",
        "                self.book_value = 0\n",
        "\n",
        "            if action == 2:  # Hold\n",
        "                # Computing the stock value and reward.\n",
        "                self.stock_value = self.training_stock_data['Open'][self.timestep + self.number_of_days_to_consider] \\\n",
        "                                   * self.number_of_shares\n",
        "\n",
        "                if self.book_value > 0:\n",
        "                    reward = (self.stock_value - self.book_value) / self.book_value * 100\n",
        "                else:\n",
        "                    reward = -1\n",
        "\n",
        "        else:\n",
        "            if action == 0:  # Buy\n",
        "                if self.number_of_shares > 0:\n",
        "                    penalty = -10\n",
        "                # Determining the number of shares the agent can buy.\n",
        "                number_of_shares_to_buy = math.floor(self.investment_capital / self.testing_stock_data[\n",
        "                    'Open'][self.timestep + self.number_of_days_to_consider])\n",
        "                # Adding to the number of shares the agent has.\n",
        "                self.number_of_shares += number_of_shares_to_buy\n",
        "\n",
        "                # Computing the stock value, book value, investment capital and reward.\n",
        "                if number_of_shares_to_buy > 0:\n",
        "                    self.stock_value += \\\n",
        "                        self.testing_stock_data['Open'][self.timestep + self.number_of_days_to_consider] \\\n",
        "                        * number_of_shares_to_buy\n",
        "                    self.book_value += \\\n",
        "                        self.testing_stock_data['Open'][self.timestep + self.number_of_days_to_consider] \\\n",
        "                        * number_of_shares_to_buy\n",
        "                    self.investment_capital -= \\\n",
        "                        self.testing_stock_data['Open'][self.timestep + self.number_of_days_to_consider] \\\n",
        "                        * number_of_shares_to_buy\n",
        "\n",
        "                    reward = 1 + penalty\n",
        "\n",
        "                else:\n",
        "                    # Computing the stock value and reward.\n",
        "                    self.stock_value = self.training_stock_data['Open'][\n",
        "                                           self.timestep + self.number_of_days_to_consider] * self.number_of_shares\n",
        "                    reward = -10\n",
        "\n",
        "            if action == 1:  # Sell\n",
        "                # Computing the investment capital, sell value and reward.\n",
        "                self.investment_capital += \\\n",
        "                    self.testing_stock_data['Open'][self.timestep + self.number_of_days_to_consider] \\\n",
        "                    * self.number_of_shares\n",
        "                sell_value = self.training_stock_data['Open'][self.timestep + self.number_of_days_to_consider] \\\n",
        "                             * self.number_of_shares\n",
        "\n",
        "                if self.book_value > 0:\n",
        "                    reward = (sell_value - self.book_value) / self.book_value * 100\n",
        "                else:\n",
        "                    reward = -10\n",
        "\n",
        "                self.number_of_shares = 0\n",
        "                self.stock_value = 0\n",
        "                self.book_value = 0\n",
        "\n",
        "            if action == 2:  # Hold\n",
        "                # Computing the stock value and reward.\n",
        "                self.stock_value = self.testing_stock_data['Open'][self.timestep + self.number_of_days_to_consider] \\\n",
        "                                   * self.number_of_shares\n",
        "\n",
        "                if self.book_value > 0:\n",
        "                    reward = (self.stock_value - self.book_value) / self.book_value * 100\n",
        "                else:\n",
        "                    reward = -1\n",
        "\n",
        "        # Determining if the agent currently has shares of the stock or not.\n",
        "        if self.number_of_shares > 0:\n",
        "            stock_held = True\n",
        "        else:\n",
        "            stock_held = False\n",
        "\n",
        "        # Getting the observation vector.\n",
        "        if self.train:\n",
        "            # If the task is to train the agent the maximum timesteps will be equal to the number of days considered\n",
        "            # subtracted from the  length of the training stock data.\n",
        "            self.max_timesteps = len(self.training_stock_data) - self.number_of_days_to_consider\n",
        "\n",
        "            # Calculating whether the price increased or decreased/remained the same on the majority of days the agent\n",
        "            # considers.\n",
        "            price_increase_list = []\n",
        "            for i in range(self.number_of_days_to_consider):\n",
        "                if self.training_stock_data['Close'][self.timestep + 1 + i] \\\n",
        "                        - self.training_stock_data['Close'][self.timestep + i] > 0:\n",
        "                    price_increase_list.append(1)\n",
        "                else:\n",
        "                    price_increase_list.append(0)\n",
        "\n",
        "            if (np.sum(price_increase_list) / self.number_of_days_to_consider) >= 0.5:\n",
        "                price_increase = True\n",
        "            else:\n",
        "                price_increase = False\n",
        "\n",
        "            # Observation vector.\n",
        "            observation = [price_increase, stock_held]\n",
        "\n",
        "        else:\n",
        "            # If the task is to evaluate the trained agent's performance the maximum timesteps will be equal to the\n",
        "            # number of days considered subtracted from the  length of the testing stock data.\n",
        "            self.max_timesteps = len(self.testing_stock_data) - self.number_of_days_to_consider\n",
        "\n",
        "            # Calculating whether the price increased or decreased/remained the same on the majority of days the agent\n",
        "            # considers.\n",
        "            price_increase_list = []\n",
        "            for i in range(self.number_of_days_to_consider):\n",
        "                if self.testing_stock_data['Close'][self.timestep + 1 + i] \\\n",
        "                        - self.testing_stock_data['Close'][self.timestep + i] > 0:\n",
        "                    price_increase_list.append(1)\n",
        "                else:\n",
        "                    price_increase_list.append(0)\n",
        "\n",
        "            if (np.sum(price_increase_list) / self.number_of_days_to_consider) >= 0.5:\n",
        "                price_increase = True\n",
        "            else:\n",
        "                price_increase = False\n",
        "\n",
        "            # Observation vector.\n",
        "            observation = [price_increase, stock_held]\n",
        "\n",
        "        self.timestep += 1  # Increasing the number of steps taken by the agent by 1.\n",
        "\n",
        "        if np.array_equal(observation, [True, False]):\n",
        "            observation = 0\n",
        "        if np.array_equal(observation, [True, True]):\n",
        "            observation = 1\n",
        "        if np.array_equal(observation, [False, False]):\n",
        "            observation = 2\n",
        "        if np.array_equal(observation, [False, True]):\n",
        "            observation = 3\n",
        "\n",
        "        # Computing the total account value.\n",
        "        self.total_account_value = self.investment_capital + self.stock_value\n",
        "        # Appending the total account value of the list to plot the graph.\n",
        "        self.total_account_value_list.append(self.total_account_value)\n",
        "\n",
        "        # The episode terminates when the maximum timesteps have been reached.\n",
        "        terminated = True if (self.timestep >= self.max_timesteps) \\\n",
        "            else False\n",
        "        truncated = False\n",
        "        info = {}\n",
        "\n",
        "        return observation, reward, terminated, truncated, info\n",
        "\n",
        "    def render(self, mode='human'):\n",
        "        \"\"\"This method renders the agent's total account value over time.\n",
        "\n",
        "        :param mode: 'human' renders to the current display or terminal and returns nothing.\"\"\"\n",
        "\n",
        "        plt.figure(figsize=(15, 10))\n",
        "        plt.plot(self.total_account_value_list, color='lightseagreen', linewidth=7)\n",
        "        plt.xlabel('Days', fontsize=32)\n",
        "        plt.ylabel('Total Account Value', fontsize=32)\n",
        "        plt.title('Total Account Value over Time', fontsize=38)\n",
        "        plt.grid()\n",
        "        plt.show()\n",
        "\n",
        "        # NOTE: You can adjust the parameter 'number_of_days_to_consider'\n",
        "\n",
        "stock_trading_environment = StockTradingEnvironment('./NVDA.csv', number_of_days_to_consider=15)\n",
        "observation = stock_trading_environment.reset()\n",
        "action = 1 \n",
        "observation, reward, terminated, truncated, info = stock_trading_environment.step(action)\n",
        "stock_trading_environment.render()\n"
      ],
      "metadata": {
        "colab": {
          "base_uri": "https://localhost:8080/",
          "height": 719
        },
        "id": "iHIztC1icuGU",
        "outputId": "2853ee98-d534-4f18-dff9-98b62e36a8f3"
      },
      "execution_count": 49,
      "outputs": [
        {
          "output_type": "display_data",
          "data": {
            "text/plain": [
              "<IPython.core.display.HTML object>"
            ],
            "text/html": [
              "\n",
              "     <input type=\"file\" id=\"files-569c0a52-817d-4429-810c-96a47a82ae2f\" name=\"files[]\" multiple disabled\n",
              "        style=\"border:none\" />\n",
              "     <output id=\"result-569c0a52-817d-4429-810c-96a47a82ae2f\">\n",
              "      Upload widget is only available when the cell has been executed in the\n",
              "      current browser session. Please rerun this cell to enable.\n",
              "      </output>\n",
              "      <script>// Copyright 2017 Google LLC\n",
              "//\n",
              "// Licensed under the Apache License, Version 2.0 (the \"License\");\n",
              "// you may not use this file except in compliance with the License.\n",
              "// You may obtain a copy of the License at\n",
              "//\n",
              "//      http://www.apache.org/licenses/LICENSE-2.0\n",
              "//\n",
              "// Unless required by applicable law or agreed to in writing, software\n",
              "// distributed under the License is distributed on an \"AS IS\" BASIS,\n",
              "// WITHOUT WARRANTIES OR CONDITIONS OF ANY KIND, either express or implied.\n",
              "// See the License for the specific language governing permissions and\n",
              "// limitations under the License.\n",
              "\n",
              "/**\n",
              " * @fileoverview Helpers for google.colab Python module.\n",
              " */\n",
              "(function(scope) {\n",
              "function span(text, styleAttributes = {}) {\n",
              "  const element = document.createElement('span');\n",
              "  element.textContent = text;\n",
              "  for (const key of Object.keys(styleAttributes)) {\n",
              "    element.style[key] = styleAttributes[key];\n",
              "  }\n",
              "  return element;\n",
              "}\n",
              "\n",
              "// Max number of bytes which will be uploaded at a time.\n",
              "const MAX_PAYLOAD_SIZE = 100 * 1024;\n",
              "\n",
              "function _uploadFiles(inputId, outputId) {\n",
              "  const steps = uploadFilesStep(inputId, outputId);\n",
              "  const outputElement = document.getElementById(outputId);\n",
              "  // Cache steps on the outputElement to make it available for the next call\n",
              "  // to uploadFilesContinue from Python.\n",
              "  outputElement.steps = steps;\n",
              "\n",
              "  return _uploadFilesContinue(outputId);\n",
              "}\n",
              "\n",
              "// This is roughly an async generator (not supported in the browser yet),\n",
              "// where there are multiple asynchronous steps and the Python side is going\n",
              "// to poll for completion of each step.\n",
              "// This uses a Promise to block the python side on completion of each step,\n",
              "// then passes the result of the previous step as the input to the next step.\n",
              "function _uploadFilesContinue(outputId) {\n",
              "  const outputElement = document.getElementById(outputId);\n",
              "  const steps = outputElement.steps;\n",
              "\n",
              "  const next = steps.next(outputElement.lastPromiseValue);\n",
              "  return Promise.resolve(next.value.promise).then((value) => {\n",
              "    // Cache the last promise value to make it available to the next\n",
              "    // step of the generator.\n",
              "    outputElement.lastPromiseValue = value;\n",
              "    return next.value.response;\n",
              "  });\n",
              "}\n",
              "\n",
              "/**\n",
              " * Generator function which is called between each async step of the upload\n",
              " * process.\n",
              " * @param {string} inputId Element ID of the input file picker element.\n",
              " * @param {string} outputId Element ID of the output display.\n",
              " * @return {!Iterable<!Object>} Iterable of next steps.\n",
              " */\n",
              "function* uploadFilesStep(inputId, outputId) {\n",
              "  const inputElement = document.getElementById(inputId);\n",
              "  inputElement.disabled = false;\n",
              "\n",
              "  const outputElement = document.getElementById(outputId);\n",
              "  outputElement.innerHTML = '';\n",
              "\n",
              "  const pickedPromise = new Promise((resolve) => {\n",
              "    inputElement.addEventListener('change', (e) => {\n",
              "      resolve(e.target.files);\n",
              "    });\n",
              "  });\n",
              "\n",
              "  const cancel = document.createElement('button');\n",
              "  inputElement.parentElement.appendChild(cancel);\n",
              "  cancel.textContent = 'Cancel upload';\n",
              "  const cancelPromise = new Promise((resolve) => {\n",
              "    cancel.onclick = () => {\n",
              "      resolve(null);\n",
              "    };\n",
              "  });\n",
              "\n",
              "  // Wait for the user to pick the files.\n",
              "  const files = yield {\n",
              "    promise: Promise.race([pickedPromise, cancelPromise]),\n",
              "    response: {\n",
              "      action: 'starting',\n",
              "    }\n",
              "  };\n",
              "\n",
              "  cancel.remove();\n",
              "\n",
              "  // Disable the input element since further picks are not allowed.\n",
              "  inputElement.disabled = true;\n",
              "\n",
              "  if (!files) {\n",
              "    return {\n",
              "      response: {\n",
              "        action: 'complete',\n",
              "      }\n",
              "    };\n",
              "  }\n",
              "\n",
              "  for (const file of files) {\n",
              "    const li = document.createElement('li');\n",
              "    li.append(span(file.name, {fontWeight: 'bold'}));\n",
              "    li.append(span(\n",
              "        `(${file.type || 'n/a'}) - ${file.size} bytes, ` +\n",
              "        `last modified: ${\n",
              "            file.lastModifiedDate ? file.lastModifiedDate.toLocaleDateString() :\n",
              "                                    'n/a'} - `));\n",
              "    const percent = span('0% done');\n",
              "    li.appendChild(percent);\n",
              "\n",
              "    outputElement.appendChild(li);\n",
              "\n",
              "    const fileDataPromise = new Promise((resolve) => {\n",
              "      const reader = new FileReader();\n",
              "      reader.onload = (e) => {\n",
              "        resolve(e.target.result);\n",
              "      };\n",
              "      reader.readAsArrayBuffer(file);\n",
              "    });\n",
              "    // Wait for the data to be ready.\n",
              "    let fileData = yield {\n",
              "      promise: fileDataPromise,\n",
              "      response: {\n",
              "        action: 'continue',\n",
              "      }\n",
              "    };\n",
              "\n",
              "    // Use a chunked sending to avoid message size limits. See b/62115660.\n",
              "    let position = 0;\n",
              "    do {\n",
              "      const length = Math.min(fileData.byteLength - position, MAX_PAYLOAD_SIZE);\n",
              "      const chunk = new Uint8Array(fileData, position, length);\n",
              "      position += length;\n",
              "\n",
              "      const base64 = btoa(String.fromCharCode.apply(null, chunk));\n",
              "      yield {\n",
              "        response: {\n",
              "          action: 'append',\n",
              "          file: file.name,\n",
              "          data: base64,\n",
              "        },\n",
              "      };\n",
              "\n",
              "      let percentDone = fileData.byteLength === 0 ?\n",
              "          100 :\n",
              "          Math.round((position / fileData.byteLength) * 100);\n",
              "      percent.textContent = `${percentDone}% done`;\n",
              "\n",
              "    } while (position < fileData.byteLength);\n",
              "  }\n",
              "\n",
              "  // All done.\n",
              "  yield {\n",
              "    response: {\n",
              "      action: 'complete',\n",
              "    }\n",
              "  };\n",
              "}\n",
              "\n",
              "scope.google = scope.google || {};\n",
              "scope.google.colab = scope.google.colab || {};\n",
              "scope.google.colab._files = {\n",
              "  _uploadFiles,\n",
              "  _uploadFilesContinue,\n",
              "};\n",
              "})(self);\n",
              "</script> "
            ]
          },
          "metadata": {}
        },
        {
          "output_type": "stream",
          "name": "stdout",
          "text": [
            "Saving NVDA.csv to NVDA (9).csv\n"
          ]
        },
        {
          "output_type": "display_data",
          "data": {
            "text/plain": [
              "<Figure size 1080x720 with 1 Axes>"
            ],
            "image/png": "[encoded data removed]"
          },
          "metadata": {
            "needs_background": "light"
          }
        }
      ]
    }
  ],
  "metadata": {
    "colab": {
      "provenance": []
    },
    "kernelspec": {
      "display_name": "Python 3 (ipykernel)",
      "language": "python",
      "name": "python3"
    },
    "language_info": {
      "codemirror_mode": {
        "name": "ipython",
        "version": 3
      },
      "file_extension": ".py",
      "mimetype": "text/x-python",
      "name": "python",
      "nbconvert_exporter": "python",
      "pygments_lexer": "ipython3",
      "version": "3.8.10"
    }
  },
  "nbformat": 4,
  "nbformat_minor": 0
}